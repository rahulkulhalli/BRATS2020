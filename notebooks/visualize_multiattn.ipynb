{
 "cells": [
  {
   "cell_type": "code",
   "execution_count": null,
   "metadata": {},
   "outputs": [],
   "source": [
    "import sys\n",
    "sys.path.append('/path/to/base/dir/BRATS2020/')"
   ]
  },
  {
   "cell_type": "code",
   "execution_count": null,
   "metadata": {},
   "outputs": [],
   "source": [
    "import torch\n",
    "from torch.utils.data import DataLoader"
   ]
  },
  {
   "cell_type": "code",
   "execution_count": null,
   "metadata": {},
   "outputs": [],
   "source": [
    "from probunet_multiattn.models.probabilistic_unet import ProbUNet\n",
    "from probunet_multiattn.visualizer import Visualizer\n",
    "from probunet_multiattn.data_utils.dataloader_visualize import BratsDataset"
   ]
  },
  {
   "cell_type": "code",
   "execution_count": null,
   "metadata": {},
   "outputs": [],
   "source": [
    "import numpy as np\n",
    "np.random.seed(42)\n",
    "torch.manual_seed(42)"
   ]
  },
  {
   "cell_type": "code",
   "execution_count": null,
   "metadata": {},
   "outputs": [],
   "source": [
    "class Config:\n",
    "    \n",
    "    def __init__(self):\n",
    "        \n",
    "        self.training_path = '/path/to/train/dir'\n",
    "        self.val_path = '/path/to/val/dir'\n",
    "        self.test_path = '/path/to/test/samples/dir'\n",
    "        \n",
    "        self.original_dim = (240, 240)\n",
    "        \n",
    "        # Model Definition\n",
    "        self.input_shape = (4, 128, 128)\n",
    "        self.output_shape = (3, 128, 128)\n",
    "        self.base_filters = 16 #Filters in the first block\n",
    "        self.depth = 4 #Depth of the UNet\n",
    "        self.nblocks = 2 #number of conv blocks at each stage\n",
    "        self.zdim = 6 #dimensionality of the Gaussian\n",
    "        self.nclasses = 3\n",
    "        self.activation = 'relu'\n",
    "        self.norm='bn'\n",
    "        self.nattn_blocks = 3\n",
    "        \n",
    "        # Logging utils\n",
    "        self.reduce_class_dice = False\n",
    "        self.split_seg_loss = True\n",
    "        \n",
    "        self.display = 'running'\n",
    "        \n",
    "        # Training parameters\n",
    "        self.loss = {'f': 'dice', 'args': {'smooth': 1.}}\n",
    "        self.epochs = 100\n",
    "        self.batch_size = 32\n",
    "        self.lr = 1e-3\n",
    "        self.decay_every = 5\n",
    "        self.validate_every = 1\n",
    "        self.checkpoint_every = 2\n",
    "        self.checkpoint_path= '/path/to/checkpoint/dir'\n",
    "        \n",
    "        # Generic model settings\n",
    "        self.devices = {\n",
    "            'unet': 'cuda:0',\n",
    "            'prior_net': 'cuda:1',\n",
    "            'output': 'cuda:1'\n",
    "        }\n",
    "        self.checkpoints = {\n",
    "            'unet': '/path/to/checkpoint/dir/unet.pth',\n",
    "            'prior_net': '/path/to/checkpoint/dir/prior_net.pth',\n",
    "            'posterior_net': '/path/to/checkpoint/dir/posterior_net.pth',\n",
    "            'fcomb': '/path/to/checkpoint/dir/fcomb.pth',\n",
    "        }\n",
    "        self.output_path = '/path/to/output/dir'\n",
    "        \n",
    "        self.train_logdir = '/path/to/train/log.log'\n",
    "        self.val_logdir = '/path/to/val/log.log'\n",
    "        self.config_log = '/path/to/config/log'\n",
    "config = Config()"
   ]
  },
  {
   "cell_type": "code",
   "execution_count": null,
   "metadata": {},
   "outputs": [],
   "source": [
    "dataset = BratsDataset(config.test_path, index=True)"
   ]
  },
  {
   "cell_type": "code",
   "execution_count": null,
   "metadata": {},
   "outputs": [],
   "source": [
    "model = ProbUNet(\n",
    "    input_shape=config.input_shape,\n",
    "    output_shape=config.output_shape,\n",
    "    depth=config.depth,\n",
    "    nblocks=config.nblocks,\n",
    "    nclasses=config.nclasses,\n",
    "    zdim=config.zdim, \n",
    "    base_filters=config.base_filters, \n",
    "    devices=config.devices, \n",
    "    checkpoints=config.checkpoints, \n",
    "    activation=config.activation, \n",
    "    norm=config.norm, use_posterior=False, \n",
    "    nattn_blocks=config.nattn_blocks)"
   ]
  },
  {
   "cell_type": "code",
   "execution_count": null,
   "metadata": {},
   "outputs": [],
   "source": [
    "vis = Visualizer(model, config, dataset)"
   ]
  },
  {
   "cell_type": "code",
   "execution_count": null,
   "metadata": {
    "scrolled": false
   },
   "outputs": [],
   "source": [
    "ranges = [\n",
    "    (-10., 10.),\n",
    "    (-20, 20.),\n",
    "    (-50, 50.),\n",
    "    (-50., 50.),\n",
    "    (-30., 30.),\n",
    "    (-30, 30.)\n",
    "]\n",
    "for dim in range(6):\n",
    "    \n",
    "    # predictions = vis.predict_and_visualize('BraTS20_Validation_007', 103, vary_dim=[dim], sample_range=ranges[dim], nsteps=10)\n",
    "    predictions = vis.predict_and_visualize('BraTS20_Training_183', 90, vary_dim=[dim], sample_range=ranges[dim], nsteps=10)"
   ]
  },
  {
   "cell_type": "code",
   "execution_count": null,
   "metadata": {},
   "outputs": [],
   "source": [
    "predictions = vis.predict_and_visualize('BraTS20_Validation_004', 103, vary_dim=[2, 5], nsteps=10, sample_range=(-50., 50.))"
   ]
  },
  {
   "cell_type": "code",
   "execution_count": null,
   "metadata": {},
   "outputs": [],
   "source": [
    "# model"
   ]
  },
  {
   "cell_type": "code",
   "execution_count": null,
   "metadata": {},
   "outputs": [],
   "source": [
    "1280*1280*3"
   ]
  },
  {
   "cell_type": "code",
   "execution_count": null,
   "metadata": {},
   "outputs": [],
   "source": [
    "128*128*20*3"
   ]
  },
  {
   "cell_type": "code",
   "execution_count": null,
   "metadata": {},
   "outputs": [],
   "source": [
    "ww = model.comb.module[0].block[0].weight"
   ]
  },
  {
   "cell_type": "code",
   "execution_count": null,
   "metadata": {},
   "outputs": [],
   "source": [
    "ww.size()"
   ]
  },
  {
   "cell_type": "code",
   "execution_count": null,
   "metadata": {
    "scrolled": true
   },
   "outputs": [],
   "source": [
    "ww.squeeze(-1).squeeze(-1)"
   ]
  },
  {
   "cell_type": "code",
   "execution_count": null,
   "metadata": {},
   "outputs": [],
   "source": [
    "bb = model.comb.module[0].block[0].bias"
   ]
  },
  {
   "cell_type": "code",
   "execution_count": null,
   "metadata": {},
   "outputs": [],
   "source": [
    "bb.size()"
   ]
  },
  {
   "cell_type": "code",
   "execution_count": null,
   "metadata": {},
   "outputs": [],
   "source": [
    "bb"
   ]
  },
  {
   "cell_type": "code",
   "execution_count": null,
   "metadata": {},
   "outputs": [],
   "source": []
  }
 ],
 "metadata": {
  "kernelspec": {
   "display_name": "Cynvenio",
   "language": "python",
   "name": "cynvenio"
  },
  "language_info": {
   "codemirror_mode": {
    "name": "ipython",
    "version": 3
   },
   "file_extension": ".py",
   "mimetype": "text/x-python",
   "name": "python",
   "nbconvert_exporter": "python",
   "pygments_lexer": "ipython3",
   "version": "3.6.8"
  }
 },
 "nbformat": 4,
 "nbformat_minor": 2
}
