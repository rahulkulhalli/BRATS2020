{
 "cells": [
  {
   "cell_type": "code",
   "execution_count": null,
   "metadata": {},
   "outputs": [],
   "source": [
    "import os\n",
    "import numpy as np\n",
    "import nibabel as nib\n",
    "import matplotlib.pyplot as plt"
   ]
  },
  {
   "cell_type": "code",
   "execution_count": null,
   "metadata": {},
   "outputs": [],
   "source": [
    "data_path = os.path.join('..', 'MICCAI_BraTS2020_TrainingData')"
   ]
  },
  {
   "cell_type": "code",
   "execution_count": null,
   "metadata": {},
   "outputs": [],
   "source": [
    "ids = [l for l in os.listdir(data_path) if 'csv' not in l]"
   ]
  },
  {
   "cell_type": "code",
   "execution_count": null,
   "metadata": {},
   "outputs": [],
   "source": [
    "_id = ids[1]"
   ]
  },
  {
   "cell_type": "code",
   "execution_count": null,
   "metadata": {},
   "outputs": [],
   "source": [
    "extensions = ['flair', 't1ce', 't1', 't2', 'seg']"
   ]
  },
  {
   "cell_type": "code",
   "execution_count": null,
   "metadata": {},
   "outputs": [],
   "source": [
    "vols = dict()\n",
    "for ext in extensions:\n",
    "    path = os.path.join(data_path, _id, '{}_{}.nii.gz'.format(_id, ext))\n",
    "    vol = nib.load(path)\n",
    "    data = vol.get_data()\n",
    "    vols[ext] = data.copy()"
   ]
  },
  {
   "cell_type": "code",
   "execution_count": null,
   "metadata": {},
   "outputs": [],
   "source": [
    "for i in range(48, 155):\n",
    "    f = plt.figure(figsize=(10, 10))\n",
    "    for j, ext in enumerate(extensions):\n",
    "        plt.subplot(1, 5, j+1)\n",
    "        vol = vols[ext][:, :, i]\n",
    "        if ext == 'seg':\n",
    "            disp_vol = np.zeros(vol.shape + (3,), dtype=np.uint8)\n",
    "            \n",
    "            # Whole Tumour\n",
    "            mask = vol > 0\n",
    "            disp_vol[mask] = np.array([1., 1., 0])\n",
    "            \n",
    "            # Tumour Core\n",
    "            mask = np.logical_or(vol == 1, vol == 4)\n",
    "            disp_vol[mask] = np.array([1., 0., 0.])\n",
    "            \n",
    "            # Enhancing Tumour\n",
    "            mask = vol == 4\n",
    "            disp_vol[mask] = np.array([0., 1., 0.])\n",
    "            \n",
    "            vol = disp_vol\n",
    "            \n",
    "            cmap = None\n",
    "        else:\n",
    "            vol = vol/(np.max(vol) + 1e-8)\n",
    "            cmap = 'gray'\n",
    "        vol = np.uint8(vol * 255.)\n",
    "        plt.imshow(vol, cmap=cmap)\n",
    "        plt.title(ext + '({})'.format(i+1))\n",
    "    plt.show()"
   ]
  },
  {
   "cell_type": "code",
   "execution_count": null,
   "metadata": {},
   "outputs": [],
   "source": [
    "# 1+4+2: Whole Tumour\n",
    "# 4 + 1: Tumour Core\n",
    "# 4: Enhancing Tumour"
   ]
  }
 ],
 "metadata": {
  "kernelspec": {
   "display_name": "PyTorch",
   "language": "python",
   "name": "pytorch_env"
  },
  "language_info": {
   "codemirror_mode": {
    "name": "ipython",
    "version": 3
   },
   "file_extension": ".py",
   "mimetype": "text/x-python",
   "name": "python",
   "nbconvert_exporter": "python",
   "pygments_lexer": "ipython3",
   "version": "3.6.7"
  }
 },
 "nbformat": 4,
 "nbformat_minor": 2
}
