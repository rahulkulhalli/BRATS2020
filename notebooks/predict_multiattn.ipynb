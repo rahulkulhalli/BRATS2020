{
 "cells": [
  {
   "cell_type": "code",
   "execution_count": null,
   "metadata": {},
   "outputs": [],
   "source": [
    "import sys\n",
    "sys.path.append('/path/to/base/dir/BRATS2020/')"
   ]
  },
  {
   "cell_type": "code",
   "execution_count": null,
   "metadata": {},
   "outputs": [],
   "source": [
    "from time import time"
   ]
  },
  {
   "cell_type": "code",
   "execution_count": null,
   "metadata": {},
   "outputs": [],
   "source": [
    "import torch\n",
    "from torch.utils.data import DataLoader"
   ]
  },
  {
   "cell_type": "code",
   "execution_count": null,
   "metadata": {},
   "outputs": [],
   "source": [
    "from probunet_multiattn.models.probabilistic_unet import ProbUNet\n",
    "from probunet_multiattn.predictor import Predictor\n",
    "from probunet_multiattn.data_utils.dataloader_predict import BratsDataset"
   ]
  },
  {
   "cell_type": "code",
   "execution_count": null,
   "metadata": {},
   "outputs": [],
   "source": [
    "import numpy as np\n",
    "np.random.seed(42)\n",
    "torch.manual_seed(42)"
   ]
  },
  {
   "cell_type": "code",
   "execution_count": null,
   "metadata": {},
   "outputs": [],
   "source": [
    "class Config:\n",
    "    \n",
    "    def __init__(self):\n",
    "        \n",
    "        self.training_path = '/path/to/train/dir'\n",
    "        self.val_path = '/path/to/val/dir'\n",
    "        self.test_path = '/path/to/test/samples/dir'\n",
    "        \n",
    "        self.original_dim = (240, 240)\n",
    "        \n",
    "        # Model Definition\n",
    "        self.input_shape = (4, 128, 128)\n",
    "        self.output_shape = (3, 128, 128)\n",
    "        self.base_filters = 16 #Filters in the first block\n",
    "        self.depth = 4 #Depth of the UNet\n",
    "        self.nblocks = 2 #number of conv blocks at each stage\n",
    "        self.zdim = 6 #dimensionality of the Gaussian\n",
    "        self.nclasses = 3\n",
    "        self.activation = 'relu'\n",
    "        self.norm='bn'\n",
    "        self.nattn_blocks = 3\n",
    "        \n",
    "        # Logging utils\n",
    "        self.reduce_class_dice = False\n",
    "        self.split_seg_loss = True\n",
    "        \n",
    "        self.display = 'running'\n",
    "        \n",
    "        # Training parameters\n",
    "        self.loss = {'f': 'dice', 'args': {'smooth': 1.}}\n",
    "        self.epochs = 100\n",
    "        self.batch_size = 32\n",
    "        self.lr = 1e-3\n",
    "        self.decay_every = 5\n",
    "        self.validate_every = 1\n",
    "        self.checkpoint_every = 2\n",
    "        self.checkpoint_path= '/path/to/checkpoints/dir'\n",
    "        self.nattn_blocks = 3\n",
    "        \n",
    "        # Generic model settings\n",
    "        self.devices = {\n",
    "            'unet': 'cuda:0',\n",
    "            'prior_net': 'cuda:1',\n",
    "            'output': 'cuda:1'\n",
    "        }\n",
    "        self.checkpoints = {\n",
    "            'unet': '/path/to/checkpoint/dir/unet.pth',\n",
    "            'prior_net': '/path/to/checkpoint/dir/prior_net.pth',\n",
    "            'posterior_net': '/path/to/checkpoint/dir/posterior_net.pth',\n",
    "            'fcomb': '/path/to/checkpoint/dir/fcomb.pth',\n",
    "        }\n",
    "        self.output_path = '/path/to/output/dir'\n",
    "        \n",
    "        self.train_logdir = '/path/to/train/log.log'\n",
    "        self.val_logdir = '/path/to/val/log.log'\n",
    "        self.config_log = '/path/to/config/log'\n",
    "config = Config()"
   ]
  },
  {
   "cell_type": "code",
   "execution_count": null,
   "metadata": {},
   "outputs": [],
   "source": [
    "dataset = BratsDataset(config.test_path)\n",
    "dataloader = DataLoader(dataset, batch_size=1, \n",
    "                        shuffle=False, num_workers=4, collate_fn=dataset.collate_batch)"
   ]
  },
  {
   "cell_type": "code",
   "execution_count": null,
   "metadata": {},
   "outputs": [],
   "source": [
    "model = ProbUNet(\n",
    "    input_shape=config.input_shape,\n",
    "    output_shape=config.output_shape,\n",
    "    depth=config.depth,\n",
    "    nblocks=config.nblocks,\n",
    "    nclasses=config.nclasses,\n",
    "    zdim=config.zdim, \n",
    "    base_filters=config.base_filters, \n",
    "    devices=config.devices, \n",
    "    checkpoints=config.checkpoints, \n",
    "    activation=config.activation, \n",
    "    norm=config.norm, use_posterior=False, \n",
    "    nattn_blocks=config.nattn_blocks)"
   ]
  },
  {
   "cell_type": "code",
   "execution_count": null,
   "metadata": {},
   "outputs": [],
   "source": [
    "predictor = Predictor(model, config, dataloader, save=True)"
   ]
  },
  {
   "cell_type": "code",
   "execution_count": null,
   "metadata": {
    "scrolled": true
   },
   "outputs": [],
   "source": [
    "start = time()\n",
    "predictor.predict(visualize=False, nsamples=10, reduce='mean')\n",
    "end = time()\n",
    "print('Finished in {} minutes.'.format((end - start)/60))"
   ]
  },
  {
   "cell_type": "code",
   "execution_count": null,
   "metadata": {},
   "outputs": [],
   "source": []
  }
 ],
 "metadata": {
  "kernelspec": {
   "display_name": "Primary Env",
   "language": "python",
   "name": "primary_env"
  },
  "language_info": {
   "codemirror_mode": {
    "name": "ipython",
    "version": 3
   },
   "file_extension": ".py",
   "mimetype": "text/x-python",
   "name": "python",
   "nbconvert_exporter": "python",
   "pygments_lexer": "ipython3",
   "version": "3.6.8"
  }
 },
 "nbformat": 4,
 "nbformat_minor": 2
}
